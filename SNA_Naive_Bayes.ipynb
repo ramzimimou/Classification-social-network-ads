{
  "nbformat": 4,
  "nbformat_minor": 0,
  "metadata": {
    "colab": {
      "provenance": [],
      "authorship_tag": "ABX9TyMRAgbZQlc8Im8gjonovKYk",
      "include_colab_link": true
    },
    "kernelspec": {
      "name": "python3",
      "display_name": "Python 3"
    },
    "language_info": {
      "name": "python"
    }
  },
  "cells": [
    {
      "cell_type": "markdown",
      "metadata": {
        "id": "view-in-github",
        "colab_type": "text"
      },
      "source": [
        "<a href=\"https://colab.research.google.com/github/ramzimimou/social-network-classification/blob/main/SNA_Naive_Bayes.ipynb\" target=\"_parent\"><img src=\"https://colab.research.google.com/assets/colab-badge.svg\" alt=\"Open In Colab\"/></a>"
      ]
    },
    {
      "cell_type": "code",
      "execution_count": null,
      "metadata": {
        "id": "vMYmQ9U5CKgU",
        "colab": {
          "base_uri": "https://localhost:8080/"
        },
        "outputId": "8bd9d790-94b6-49e5-9745-74d0cd602447"
      },
      "outputs": [
        {
          "output_type": "stream",
          "name": "stdout",
          "text": [
            "Drive already mounted at /content/drive; to attempt to forcibly remount, call drive.mount(\"/content/drive\", force_remount=True).\n",
            "      User ID  Gender  Age  EstimatedSalary  Purchased\n",
            "0    15624510    Male   19            19000          0\n",
            "1    15810944    Male   35            20000          0\n",
            "2    15668575  Female   26            43000          0\n",
            "3    15603246  Female   27            57000          0\n",
            "4    15804002    Male   19            76000          0\n",
            "..        ...     ...  ...              ...        ...\n",
            "395  15691863  Female   46            41000          1\n",
            "396  15706071    Male   51            23000          1\n",
            "397  15654296  Female   50            20000          1\n",
            "398  15755018    Male   36            33000          0\n",
            "399  15594041  Female   49            36000          1\n",
            "\n",
            "[400 rows x 5 columns]\n",
            "      User ID  Gender  Age  EstimatedSalary\n",
            "0    15624510       1   19            19000\n",
            "1    15810944       1   35            20000\n",
            "2    15668575       0   26            43000\n",
            "3    15603246       0   27            57000\n",
            "4    15804002       1   19            76000\n",
            "..        ...     ...  ...              ...\n",
            "395  15691863       0   46            41000\n",
            "396  15706071       1   51            23000\n",
            "397  15654296       0   50            20000\n",
            "398  15755018       1   36            33000\n",
            "399  15594041       0   49            36000\n",
            "\n",
            "[400 rows x 4 columns]\n",
            "0      0\n",
            "1      0\n",
            "2      0\n",
            "3      0\n",
            "4      0\n",
            "      ..\n",
            "395    1\n",
            "396    1\n",
            "397    1\n",
            "398    0\n",
            "399    1\n",
            "Name: Purchased, Length: 400, dtype: int64\n",
            "Prediction :\n",
            " [0 0 0 0 0 0 0 1 0 1 0 0 0 0 0 0 0 0 1 0 0 1 0 1 0 1 0 0 0 0 0 0 1 0 0 0 0\n",
            " 0 0 1 0 0 0 0 1 0 0 1 0 1 1 0 0 1 1 0 0 0 1 0 0 1 0 0 0 1 0 0 0 0 1 0 0 0\n",
            " 0 0 0 0 1 1 1 1 0 0 1 0 0 1 0 0 0 1 0 0 0 0 0 1 1 1]\n",
            "accuracy:\n",
            " 90.0\n",
            "confusion matrix :\n",
            " [[65  3]\n",
            " [ 7 25]]\n",
            "Rapport de classification:\n",
            "               precision    recall  f1-score   support\n",
            "\n",
            "           0       0.90      0.96      0.93        68\n",
            "           1       0.89      0.78      0.83        32\n",
            "\n",
            "    accuracy                           0.90       100\n",
            "   macro avg       0.90      0.87      0.88       100\n",
            "weighted avg       0.90      0.90      0.90       100\n",
            "\n"
          ]
        }
      ],
      "source": [
        "#Importation des Bibliotheque\n",
        "import numpy as np\n",
        "import pandas as pd\n",
        "from google.colab import drive\n",
        "from sklearn.model_selection import train_test_split\n",
        "from sklearn.naive_bayes import GaussianNB\n",
        "from sklearn.metrics import accuracy_score\n",
        "from sklearn.metrics import confusion_matrix\n",
        "from sklearn.metrics import classification_report\n",
        "#importation de dataset\n",
        "drive.mount('/content/drive')\n",
        "path = '/content/drive/MyDrive/DATA/Social Network Ads.csv'\n",
        "#Lecture du dataset\n",
        "df = pd.read_csv(path)\n",
        "print(df)\n",
        "#Convertire les valeurs 'Male','Female' a des valeur numerique '1','0'\n",
        "df['Gender'] = pd.get_dummies(df['Gender'], drop_first=True)\n",
        "#Lecture des colonnes \n",
        "X =df.iloc[:, :-1]\n",
        "y = df.iloc[:, 4]\n",
        "print(X)\n",
        "print(y)\n",
        "#Division d'ensembles d'entrenement et de test\n",
        "X_train, X_test, y_train, y_test = train_test_split(X, y, test_size=0.25, random_state=0)\n",
        "#Classification avec Naive Bayes\n",
        "#Construction du model\n",
        "gnb= GaussianNB()\n",
        "gnb.fit(X_train, y_train)\n",
        "#Evaluation du model  \n",
        "pred=gnb.predict(X_test)\n",
        "print('Prediction :\\n',pred)\n",
        "#Accuracy Score\n",
        "print('accuracy:\\n',accuracy_score(y_test,pred)*100)\n",
        "#Confusion Matrix\n",
        "print('confusion matrix :\\n', confusion_matrix(y_test, pred))\n",
        "#Classification Report\n",
        "print('Rapport de classification:\\n' , classification_report(y_test,pred))"
      ]
    }
  ]
}