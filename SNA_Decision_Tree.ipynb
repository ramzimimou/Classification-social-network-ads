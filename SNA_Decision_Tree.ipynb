{
  "nbformat": 4,
  "nbformat_minor": 0,
  "metadata": {
    "colab": {
      "provenance": [],
      "authorship_tag": "ABX9TyNQdt6G8t+nwSgIRmeX42TS",
      "include_colab_link": true
    },
    "kernelspec": {
      "name": "python3",
      "display_name": "Python 3"
    },
    "language_info": {
      "name": "python"
    }
  },
  "cells": [
    {
      "cell_type": "markdown",
      "metadata": {
        "id": "view-in-github",
        "colab_type": "text"
      },
      "source": [
        "<a href=\"https://colab.research.google.com/github/ramzimimou/Classification-social-network-ads/blob/main/SNA_Decision_Tree.ipynb\" target=\"_parent\"><img src=\"https://colab.research.google.com/assets/colab-badge.svg\" alt=\"Open In Colab\"/></a>"
      ]
    },
    {
      "cell_type": "code",
      "execution_count": 2,
      "metadata": {
        "colab": {
          "base_uri": "https://localhost:8080/",
          "height": 1000
        },
        "id": "Db547FPjL7Bk",
        "outputId": "4b785e73-edd9-42c0-9be3-ca833e7b608e"
      },
      "outputs": [
        {
          "output_type": "stream",
          "name": "stdout",
          "text": [
            "Drive already mounted at /content/drive; to attempt to forcibly remount, call drive.mount(\"/content/drive\", force_remount=True).\n",
            "      User ID  Gender  Age  EstimatedSalary  Purchased\n",
            "0    15624510    Male   19            19000          0\n",
            "1    15810944    Male   35            20000          0\n",
            "2    15668575  Female   26            43000          0\n",
            "3    15603246  Female   27            57000          0\n",
            "4    15804002    Male   19            76000          0\n",
            "..        ...     ...  ...              ...        ...\n",
            "395  15691863  Female   46            41000          1\n",
            "396  15706071    Male   51            23000          1\n",
            "397  15654296  Female   50            20000          1\n",
            "398  15755018    Male   36            33000          0\n",
            "399  15594041  Female   49            36000          1\n",
            "\n",
            "[400 rows x 5 columns]\n",
            "      User ID  Gender  Age  EstimatedSalary\n",
            "0    15624510       1   19            19000\n",
            "1    15810944       1   35            20000\n",
            "2    15668575       0   26            43000\n",
            "3    15603246       0   27            57000\n",
            "4    15804002       1   19            76000\n",
            "..        ...     ...  ...              ...\n",
            "395  15691863       0   46            41000\n",
            "396  15706071       1   51            23000\n",
            "397  15654296       0   50            20000\n",
            "398  15755018       1   36            33000\n",
            "399  15594041       0   49            36000\n",
            "\n",
            "[400 rows x 4 columns]\n",
            "0      0\n",
            "1      0\n",
            "2      0\n",
            "3      0\n",
            "4      0\n",
            "      ..\n",
            "395    1\n",
            "396    1\n",
            "397    1\n",
            "398    0\n",
            "399    1\n",
            "Name: Purchased, Length: 400, dtype: int64\n",
            "prediction:\n",
            " [0 0 0 0 0 0 0 1 0 1 0 0 0 0 0 1 0 0 1 0 0 1 0 1 0 1 0 0 0 0 0 0 1 0 0 0 0\n",
            " 0 0 1 0 0 0 0 1 0 0 1 0 1 1 0 0 1 1 1 0 0 1 0 0 1 0 1 0 1 0 0 0 0 1 0 0 1\n",
            " 0 0 0 0 1 1 1 1 0 0 1 0 0 1 1 0 0 1 0 0 0 1 0 1 1 1]\n",
            "accuracy :\n",
            " 94.0\n",
            "confusion matrix :\n",
            " [[64  4]\n",
            " [ 2 30]]\n",
            "Rapport de classification :\n",
            "               precision    recall  f1-score   support\n",
            "\n",
            "           0       0.97      0.94      0.96        68\n",
            "           1       0.88      0.94      0.91        32\n",
            "\n",
            "    accuracy                           0.94       100\n",
            "   macro avg       0.93      0.94      0.93       100\n",
            "weighted avg       0.94      0.94      0.94       100\n",
            "\n"
          ]
        },
        {
          "output_type": "display_data",
          "data": {
            "text/plain": [
              "<Figure size 432x288 with 1 Axes>"
            ],
            "image/png": "[encoded data removed]"
          },
          "metadata": {
            "needs_background": "light"
          }
        }
      ],
      "source": [
        "#Importing libraries\n",
        "import numpy as np\n",
        "import pandas as pd\n",
        "from google.colab import drive\n",
        "from sklearn.model_selection import train_test_split\n",
        "from sklearn.tree import DecisionTreeClassifier\n",
        "from sklearn import tree\n",
        "from sklearn.metrics import accuracy_score\n",
        "from sklearn.metrics import confusion_matrix\n",
        "from sklearn.metrics import classification_report\n",
        "#Importing dataset\n",
        "drive.mount('/content/drive')\n",
        "path = '/content/drive/MyDrive/DATA/Social Network Ads.csv'\n",
        "#Reading the dataset\n",
        "df = pd.read_csv(path)\n",
        "print(df)\n",
        "#Convert 'Male' and 'Female' values to numeric values '1' and '0'\n",
        "df['Gender'] = pd.get_dummies(df['Gender'], drop_first=True)\n",
        "#Reading columns \n",
        "X =df.iloc[:, :-1]\n",
        "y = df.iloc[:, 4]\n",
        "print(X)\n",
        "print(y)\n",
        "#Splitting the dataset into training and testing sets\n",
        "X_train, X_test, y_train, y_test = train_test_split(X, y, test_size=0.25, random_state=0)\n",
        "#Classification with Decision Tree \n",
        "#Building the model\n",
        "clf_entropy=DecisionTreeClassifier(criterion='gini',random_state=0,max_depth=3 ,min_samples_leaf=5)\n",
        "clf_entropy.fit(X_train, y_train)\n",
        "#Evaluating the model  \n",
        "pred = clf_entropy.predict(X_test)\n",
        "print('prediction:\\n',pred)\n",
        "#Schema of the Decision Tree\n",
        "clf = tree.DecisionTreeClassifier()\n",
        "clf = clf.fit(X, y)\n",
        "tree.plot_tree(clf)\n",
        "#Accuracy Score\n",
        "print('accuracy :\\n',accuracy_score(y_test,pred)*100)\n",
        "#Confusion Matrix\n",
        "print('confusion matrix :\\n', confusion_matrix(y_test, pred))\n",
        "#Classification Report\n",
        "print('Rapport de classification :\\n', classification_report(y_test,pred))"
      ]
    }
  ]
}