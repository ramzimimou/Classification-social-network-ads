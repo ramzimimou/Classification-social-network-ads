{
  "nbformat": 4,
  "nbformat_minor": 0,
  "metadata": {
    "colab": {
      "provenance": [],
      "authorship_tag": "ABX9TyNlrEEQ7kgC9z68sruDZV2j",
      "include_colab_link": true
    },
    "kernelspec": {
      "name": "python3",
      "display_name": "Python 3"
    },
    "language_info": {
      "name": "python"
    }
  },
  "cells": [
    {
      "cell_type": "markdown",
      "metadata": {
        "id": "view-in-github",
        "colab_type": "text"
      },
      "source": [
        "<a href=\"https://colab.research.google.com/github/ramzimimou/social-network-classification/blob/main/SNA-Naive_Bayes.ipynb\" target=\"_parent\"><img src=\"https://colab.research.google.com/assets/colab-badge.svg\" alt=\"Open In Colab\"/></a>"
      ]
    },
    {
      "cell_type": "code",
      "execution_count": null,
      "metadata": {
        "id": "vMYmQ9U5CKgU",
        "colab": {
          "base_uri": "https://localhost:8080/"
        },
        "outputId": "1dfd1d1e-b1d6-4294-b323-947b3973f98b"
      },
      "outputs": [
        {
          "output_type": "stream",
          "name": "stdout",
          "text": [
            "Drive already mounted at /content/drive; to attempt to forcibly remount, call drive.mount(\"/content/drive\", force_remount=True).\n",
            "     Age  EstimatedSalary  Purchased\n",
            "0     19            19000          0\n",
            "1     35            20000          0\n",
            "2     26            43000          0\n",
            "3     27            57000          0\n",
            "4     19            76000          0\n",
            "..   ...              ...        ...\n",
            "395   46            41000          1\n",
            "396   51            23000          1\n",
            "397   50            20000          1\n",
            "398   36            33000          0\n",
            "399   49            36000          1\n",
            "\n",
            "[400 rows x 3 columns]\n",
            "     Age  EstimatedSalary\n",
            "0     19            19000\n",
            "1     35            20000\n",
            "2     26            43000\n",
            "3     27            57000\n",
            "4     19            76000\n",
            "..   ...              ...\n",
            "395   46            41000\n",
            "396   51            23000\n",
            "397   50            20000\n",
            "398   36            33000\n",
            "399   49            36000\n",
            "\n",
            "[400 rows x 2 columns]\n",
            "0      0\n",
            "1      0\n",
            "2      0\n",
            "3      0\n",
            "4      0\n",
            "      ..\n",
            "395    1\n",
            "396    1\n",
            "397    1\n",
            "398    0\n",
            "399    1\n",
            "Name: Purchased, Length: 400, dtype: int64\n",
            "Prediction :\n",
            " [0 0 0 0 0 0 0 1 0 1 0 0 0 0 0 0 0 0 1 0 0 1 0 1 0 1 0 0 0 0 0 0 1 0 0 0 0\n",
            " 0 0 1 0 0 0 0 1 0 0 1 0 1 1 0 0 1 1 0 0 0 1 0 0 1 0 0 0 1 0 0 0 0 1 0 0 0\n",
            " 0 0 0 0 1 1 1 1 0 0 1 0 0 1 0 0 0 1 0 0 0 0 0 1 1 1]\n",
            "accuracy:\n",
            " 90.0\n",
            "confusion matrix :\n",
            " [[65  3]\n",
            " [ 7 25]]\n",
            "Rapport de classification:\n",
            "               precision    recall  f1-score   support\n",
            "\n",
            "           0       0.90      0.96      0.93        68\n",
            "           1       0.89      0.78      0.83        32\n",
            "\n",
            "    accuracy                           0.90       100\n",
            "   macro avg       0.90      0.87      0.88       100\n",
            "weighted avg       0.90      0.90      0.90       100\n",
            "\n"
          ]
        }
      ],
      "source": [
        "#Importation des Bibliotheque\n",
        "import numpy as np\n",
        "import pandas as pd\n",
        "from google.colab import drive\n",
        "from sklearn.model_selection import train_test_split\n",
        "from sklearn.naive_bayes import GaussianNB\n",
        "from sklearn.metrics import accuracy_score\n",
        "from sklearn.metrics import confusion_matrix\n",
        "from sklearn.metrics import classification_report\n",
        "#importation de dataset\n",
        "drive.mount('/content/drive')\n",
        "path = '/content/drive/MyDrive/DATA/Social_Network_Ads.csv'\n",
        "#Lecture du dataset\n",
        "df = pd.read_csv(path)\n",
        "print(df)\n",
        "#Lecture des colonnes \n",
        "X =df.iloc[:, :-1]\n",
        "y = df.iloc[:, 2]\n",
        "print(X)\n",
        "print(y)\n",
        "#Division d'ensembles d'entrenement et de test\n",
        "X_train, X_test, y_train, y_test = train_test_split(X, y, test_size=0.25, random_state=0)\n",
        "#Classification avec Naive Bayes\n",
        "#Construction du model\n",
        "gnb= GaussianNB()\n",
        "gnb.fit(X_train, y_train)\n",
        "#Evaluation du model  \n",
        "pred=gnb.predict(X_test)\n",
        "print('Prediction :\\n',pred)\n",
        "#Accuracy Score\n",
        "print('accuracy:\\n',accuracy_score(y_test,pred)*100)\n",
        "#Confusion Matrix\n",
        "print('confusion matrix :\\n', confusion_matrix(y_test, pred))\n",
        "#Classification Report\n",
        "print('Rapport de classification:\\n' , classification_report(y_test,pred))\n"
      ]
    }
  ]
}