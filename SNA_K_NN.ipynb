{
  "nbformat": 4,
  "nbformat_minor": 0,
  "metadata": {
    "colab": {
      "provenance": [],
      "authorship_tag": "ABX9TyNpmUmtyVGS/JPuhn3p/rCh",
      "include_colab_link": true
    },
    "kernelspec": {
      "name": "python3",
      "display_name": "Python 3"
    },
    "language_info": {
      "name": "python"
    }
  },
  "cells": [
    {
      "cell_type": "markdown",
      "metadata": {
        "id": "view-in-github",
        "colab_type": "text"
      },
      "source": [
        "<a href=\"https://colab.research.google.com/github/ramzimimou/Classification-social-network-ads/blob/main/SNA_K_NN.ipynb\" target=\"_parent\"><img src=\"https://colab.research.google.com/assets/colab-badge.svg\" alt=\"Open In Colab\"/></a>"
      ]
    },
    {
      "cell_type": "code",
      "execution_count": 10,
      "metadata": {
        "id": "vMYmQ9U5CKgU",
        "colab": {
          "base_uri": "https://localhost:8080/"
        },
        "outputId": "930f346a-0b5f-4e71-a339-d018d6886a3a"
      },
      "outputs": [
        {
          "output_type": "stream",
          "name": "stdout",
          "text": [
            "Drive already mounted at /content/drive; to attempt to forcibly remount, call drive.mount(\"/content/drive\", force_remount=True).\n",
            "      User ID  Gender  Age  EstimatedSalary  Purchased\n",
            "0    15624510    Male   19            19000          0\n",
            "1    15810944    Male   35            20000          0\n",
            "2    15668575  Female   26            43000          0\n",
            "3    15603246  Female   27            57000          0\n",
            "4    15804002    Male   19            76000          0\n",
            "..        ...     ...  ...              ...        ...\n",
            "395  15691863  Female   46            41000          1\n",
            "396  15706071    Male   51            23000          1\n",
            "397  15654296  Female   50            20000          1\n",
            "398  15755018    Male   36            33000          0\n",
            "399  15594041  Female   49            36000          1\n",
            "\n",
            "[400 rows x 5 columns]\n",
            "      User ID  Gender  Age  EstimatedSalary\n",
            "0    15624510       1   19            19000\n",
            "1    15810944       1   35            20000\n",
            "2    15668575       0   26            43000\n",
            "3    15603246       0   27            57000\n",
            "4    15804002       1   19            76000\n",
            "..        ...     ...  ...              ...\n",
            "395  15691863       0   46            41000\n",
            "396  15706071       1   51            23000\n",
            "397  15654296       0   50            20000\n",
            "398  15755018       1   36            33000\n",
            "399  15594041       0   49            36000\n",
            "\n",
            "[400 rows x 4 columns]\n",
            "0      0\n",
            "1      0\n",
            "2      0\n",
            "3      0\n",
            "4      0\n",
            "      ..\n",
            "395    1\n",
            "396    1\n",
            "397    1\n",
            "398    0\n",
            "399    1\n",
            "Name: Purchased, Length: 400, dtype: int64\n",
            "Prediction :\n",
            " [0 0 0 0 0 0 0 1 0 1 0 0 0 0 0 0 0 0 1 0 0 1 0 1 1 1 0 0 0 0 0 0 0 0 0 0 0\n",
            " 0 0 0 0 0 0 0 1 0 0 0 0 0 1 1 0 1 0 0 0 0 0 1 0 0 0 0 1 0 0 0 0 0 1 0 0 1\n",
            " 0 0 0 0 0 0 1 0 0 0 0 0 0 1 0 0 0 1 0 0 0 1 0 0 1 1]\n",
            "accuracy:\n",
            " 77.0\n",
            "confusion matrix :\n",
            " [[62  6]\n",
            " [17 15]]\n",
            "Rapport de classification:\n",
            "               precision    recall  f1-score   support\n",
            "\n",
            "           0       0.78      0.91      0.84        68\n",
            "           1       0.71      0.47      0.57        32\n",
            "\n",
            "    accuracy                           0.77       100\n",
            "   macro avg       0.75      0.69      0.70       100\n",
            "weighted avg       0.76      0.77      0.75       100\n",
            "\n"
          ]
        }
      ],
      "source": [
        "#Importing libraries\n",
        "import numpy as np\n",
        "import pandas as pd\n",
        "from google.colab import drive\n",
        "from sklearn.model_selection import train_test_split\n",
        "from sklearn.neighbors import KNeighborsClassifier\n",
        "from sklearn.metrics import accuracy_score\n",
        "from sklearn.metrics import confusion_matrix\n",
        "from sklearn.metrics import classification_report\n",
        "#Importing dataset\n",
        "drive.mount('/content/drive')\n",
        "path = '/content/drive/MyDrive/DATA/Social Network Ads.csv'\n",
        "#Reading the dataset\n",
        "df = pd.read_csv(path)\n",
        "print(df)\n",
        "#Convert 'Male' and 'Female' values to numeric values '1' and '0'\n",
        "df['Gender'] = pd.get_dummies(df['Gender'], drop_first=True)\n",
        "#Reading columns \n",
        "X =df.iloc[:, :-1]\n",
        "y = df.iloc[:, 4]\n",
        "print(X)\n",
        "print(y)\n",
        "#Splitting the dataset into training and testing sets\n",
        "X_train, X_test, y_train, y_test = train_test_split(X, y, test_size=0.25, random_state=0)\n",
        "#Classification with K-Nearest Neighbors\n",
        "#Building the model\n",
        "knn = KNeighborsClassifier(n_neighbors=6)\n",
        "knn.fit(X_train, y_train)\n",
        "#Evaluating the model  \n",
        "pred = knn.predict(X_test)\n",
        "print('Prediction :\\n',pred)\n",
        "#Accuracy Score\n",
        "print('accuracy:\\n',accuracy_score(y_test,pred)*100)\n",
        "#Confusion Matrix\n",
        "print('confusion matrix :\\n', confusion_matrix(y_test, pred))\n",
        "#Classification Report\n",
        "print('Rapport de classification:\\n' , classification_report(y_test,pred))"
      ]
    }
  ]
}